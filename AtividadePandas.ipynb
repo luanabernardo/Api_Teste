{
  "nbformat": 4,
  "nbformat_minor": 0,
  "metadata": {
    "colab": {
      "provenance": [],
      "authorship_tag": "ABX9TyM6ip3kG5qr1TMnXhYXXZh+",
      "include_colab_link": true
    },
    "kernelspec": {
      "name": "python3",
      "display_name": "Python 3"
    },
    "language_info": {
      "name": "python"
    }
  },
  "cells": [
    {
      "cell_type": "markdown",
      "metadata": {
        "id": "view-in-github",
        "colab_type": "text"
      },
      "source": [
        "<a href=\"https://colab.research.google.com/github/luanabernardo/Api_Teste/blob/main/AtividadePandas.ipynb\" target=\"_parent\"><img src=\"https://colab.research.google.com/assets/colab-badge.svg\" alt=\"Open In Colab\"/></a>"
      ]
    },
    {
      "cell_type": "code",
      "execution_count": 2,
      "metadata": {
        "colab": {
          "base_uri": "https://localhost:8080/"
        },
        "id": "ybmwWVDe4eK9",
        "outputId": "9be84b7d-41e2-4b51-d7c4-b7481781f4cb"
      },
      "outputs": [
        {
          "output_type": "stream",
          "name": "stdout",
          "text": [
            "Mounted at /content/drive\n"
          ]
        }
      ],
      "source": [
        "#Estou fazedo o exercício pelo Google Colab então foi necessário fazer a importação do drive para puxar o arquivo csv\n",
        "from google.colab import drive\n",
        "\n",
        "drive.mount('/content/drive')"
      ]
    },
    {
      "cell_type": "code",
      "source": [
        "import pandas as pd"
      ],
      "metadata": {
        "id": "I8ABpkfH5R_G"
      },
      "execution_count": 5,
      "outputs": []
    },
    {
      "cell_type": "code",
      "source": [
        "caminho_arquivo_actors = '/content/drive/MyDrive/Udemy/actors.csv'\n",
        "#Leitura dos dados do arquivo csv\n",
        "dados = pd.read_csv(caminho_arquivo_actors)"
      ],
      "metadata": {
        "id": "6tZXiPK75rcy"
      },
      "execution_count": 9,
      "outputs": []
    },
    {
      "cell_type": "code",
      "source": [
        "print(dados.columns)"
      ],
      "metadata": {
        "colab": {
          "base_uri": "https://localhost:8080/"
        },
        "id": "IF093SBZ7eli",
        "outputId": "0a2ec3e4-3daf-4abd-ccb3-8f0062b43946"
      },
      "execution_count": 11,
      "outputs": [
        {
          "output_type": "stream",
          "name": "stdout",
          "text": [
            "Index(['Actor', 'Total Gross', 'Number of Movies', 'Average per Movie',\n",
            "       '#1 Movie', 'Gross'],\n",
            "      dtype='object')\n"
          ]
        }
      ]
    },
    {
      "cell_type": "markdown",
      "source": [
        "### **Identifique o ator/atriz com maior número de filmes e o respectivo número de filmes.**\n"
      ],
      "metadata": {
        "id": "BVtTVKy17T3h"
      }
    },
    {
      "cell_type": "code",
      "source": [
        "# Identificar o ator com o maior número de filmes e o respectivo número de filmes\n",
        "ator_maior_numero_filmes = dados.loc[dados['Number of Movies'].idxmax()]\n",
        "# Pegar o nome do ator com o maior número de filmes\n",
        "nome_ator_maior_numero_filmes = ator_maior_numero_filmes['Actor']\n",
        "# Pegar o número de filmes para o ator com o maior número de filmes\n",
        "numero_filmes_maior = ator_maior_numero_filmes['Number of Movies']\n",
        "\n",
        "print(f\"Ator/Atriz com maior número de filmes: {nome_ator_maior_numero_filmes}\")\n",
        "print(f\"Número de filmes: {numero_filmes_maior}\")\n"
      ],
      "metadata": {
        "colab": {
          "base_uri": "https://localhost:8080/"
        },
        "id": "_Kpo_mKN79kq",
        "outputId": "f8244aea-df5f-490a-d4ec-7edaf1a7aa97"
      },
      "execution_count": 12,
      "outputs": [
        {
          "output_type": "stream",
          "name": "stdout",
          "text": [
            "Ator/Atriz com maior número de filmes: Robert DeNiro\n",
            "Número de filmes: 79\n"
          ]
        }
      ]
    },
    {
      "cell_type": "markdown",
      "source": [
        "### **Apresente a média da coluna contendo o número de filmes.**"
      ],
      "metadata": {
        "id": "BLctdEFv9iZD"
      }
    },
    {
      "cell_type": "code",
      "source": [
        "media_num_filmes = dados['Number of Movies'].mean()\n",
        "print(f\"Média do número de filmes: {media_num_filmes}\")"
      ],
      "metadata": {
        "colab": {
          "base_uri": "https://localhost:8080/"
        },
        "id": "aZpJgp829mNp",
        "outputId": "44b59d4e-8b24-4a14-f659-b1dedf5ffebc"
      },
      "execution_count": 13,
      "outputs": [
        {
          "output_type": "stream",
          "name": "stdout",
          "text": [
            "Média do número de filmes: 37.88\n"
          ]
        }
      ]
    },
    {
      "cell_type": "markdown",
      "source": [
        "### **Apresentar o nome do ator/atriz com a maior média por filme:**"
      ],
      "metadata": {
        "id": "i8037jdz95f6"
      }
    },
    {
      "cell_type": "code",
      "source": [
        "ator_maior_media = dados.loc[dados['Average per Movie'].idxmax()]\n",
        "nome_ator_maior_media = ator_maior_media['Actor']\n",
        "\n",
        "print(f\"Ator/Atriz com a maior média por filme: {nome_ator_maior_media}\")\n"
      ],
      "metadata": {
        "colab": {
          "base_uri": "https://localhost:8080/"
        },
        "id": "QVgUuPXL99Wa",
        "outputId": "42c57828-4566-420a-dfda-b9567891bc92"
      },
      "execution_count": 14,
      "outputs": [
        {
          "output_type": "stream",
          "name": "stdout",
          "text": [
            "Ator/Atriz com a maior média por filme: Anthony Daniels\n"
          ]
        }
      ]
    },
    {
      "cell_type": "markdown",
      "source": [
        "### **Apresentar o nome do(s) filme(s) mais frequente(s) e sua respectiva frequência:**"
      ],
      "metadata": {
        "id": "7O443ijV-J5x"
      }
    },
    {
      "cell_type": "code",
      "source": [
        "filmes_mais_frequentes = dados['#1 Movie'].value_counts()\n",
        "\n",
        "# Se houver múltiplos filmes com a mesma frequência máxima, todos serão listados\n",
        "nome_filme_mais_frequente = filmes_mais_frequentes.index[0]\n",
        "frequencia_filme_mais_frequente = filmes_mais_frequentes.iloc[0]\n",
        "\n",
        "print(f\"Filme(s) mais frequente(s): {nome_filme_mais_frequente}\")\n",
        "print(f\"Frequência: {frequencia_filme_mais_frequente}\")"
      ],
      "metadata": {
        "colab": {
          "base_uri": "https://localhost:8080/"
        },
        "id": "t1Pw9H3fAFcr",
        "outputId": "6531b5f6-f273-401d-89c9-9d3112b69270"
      },
      "execution_count": 18,
      "outputs": [
        {
          "output_type": "stream",
          "name": "stdout",
          "text": [
            "Filme(s) mais frequente(s): The Avengers\n",
            "Frequência: 6\n"
          ]
        }
      ]
    }
  ]
}